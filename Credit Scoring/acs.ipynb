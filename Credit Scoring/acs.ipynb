{
 "cells": [
  {
   "cell_type": "markdown",
   "metadata": {},
   "source": [
    "# Africa Credit Challenge"
   ]
  },
  {
   "cell_type": "code",
   "execution_count": 1,
   "metadata": {},
   "outputs": [],
   "source": [
    "import os \n",
    "import pandas as pd\n",
    "import numpy as np\n",
    "import matplotlib.pyplot as plt\n",
    "import seaborn as sns\n",
    "\n",
    "\n",
    "import warnings\n",
    "warnings.filterwarnings('ignore')\n"
   ]
  },
  {
   "cell_type": "code",
   "execution_count": 2,
   "metadata": {},
   "outputs": [],
   "source": [
    "base_path = os.path.join('', 'data')\n",
    "train_path = os.path.join(base_path, 'Train.csv')\n",
    "test_path = os.path.join(base_path, 'Test.csv')\n",
    "e_indicators = os.path.join(base_path, 'economic_indicators.csv')\n"
   ]
  },
  {
   "cell_type": "markdown",
   "metadata": {},
   "source": [
    "## Load the data"
   ]
  },
  {
   "cell_type": "code",
   "execution_count": 3,
   "metadata": {},
   "outputs": [
    {
     "data": {
      "text/html": [
       "<div>\n",
       "<style scoped>\n",
       "    .dataframe tbody tr th:only-of-type {\n",
       "        vertical-align: middle;\n",
       "    }\n",
       "\n",
       "    .dataframe tbody tr th {\n",
       "        vertical-align: top;\n",
       "    }\n",
       "\n",
       "    .dataframe thead th {\n",
       "        text-align: right;\n",
       "    }\n",
       "</style>\n",
       "<table border=\"1\" class=\"dataframe\">\n",
       "  <thead>\n",
       "    <tr style=\"text-align: right;\">\n",
       "      <th></th>\n",
       "      <th>Country</th>\n",
       "      <th>Indicator</th>\n",
       "      <th>YR2001</th>\n",
       "      <th>YR2002</th>\n",
       "      <th>YR2003</th>\n",
       "      <th>YR2004</th>\n",
       "      <th>YR2005</th>\n",
       "      <th>YR2006</th>\n",
       "      <th>YR2007</th>\n",
       "      <th>YR2008</th>\n",
       "      <th>...</th>\n",
       "      <th>YR2014</th>\n",
       "      <th>YR2015</th>\n",
       "      <th>YR2016</th>\n",
       "      <th>YR2017</th>\n",
       "      <th>YR2018</th>\n",
       "      <th>YR2019</th>\n",
       "      <th>YR2020</th>\n",
       "      <th>YR2021</th>\n",
       "      <th>YR2022</th>\n",
       "      <th>YR2023</th>\n",
       "    </tr>\n",
       "  </thead>\n",
       "  <tbody>\n",
       "    <tr>\n",
       "      <th>0</th>\n",
       "      <td>Ghana</td>\n",
       "      <td>Inflation, consumer prices (annual %)</td>\n",
       "      <td>41.509496</td>\n",
       "      <td>9.360932</td>\n",
       "      <td>29.772980</td>\n",
       "      <td>18.042739</td>\n",
       "      <td>15.438992</td>\n",
       "      <td>11.679184</td>\n",
       "      <td>10.734267</td>\n",
       "      <td>16.494640</td>\n",
       "      <td>...</td>\n",
       "      <td>15.489616</td>\n",
       "      <td>17.149970</td>\n",
       "      <td>17.454635</td>\n",
       "      <td>12.371922</td>\n",
       "      <td>7.808765</td>\n",
       "      <td>7.143640</td>\n",
       "      <td>9.887290</td>\n",
       "      <td>9.971089</td>\n",
       "      <td>31.255895</td>\n",
       "      <td>38.106966</td>\n",
       "    </tr>\n",
       "    <tr>\n",
       "      <th>1</th>\n",
       "      <td>Cote d'Ivoire</td>\n",
       "      <td>Inflation, consumer prices (annual %)</td>\n",
       "      <td>4.361529</td>\n",
       "      <td>3.077265</td>\n",
       "      <td>3.296807</td>\n",
       "      <td>1.457988</td>\n",
       "      <td>3.885830</td>\n",
       "      <td>2.467191</td>\n",
       "      <td>1.892006</td>\n",
       "      <td>6.308528</td>\n",
       "      <td>...</td>\n",
       "      <td>0.448682</td>\n",
       "      <td>1.251500</td>\n",
       "      <td>0.723178</td>\n",
       "      <td>0.685881</td>\n",
       "      <td>0.359409</td>\n",
       "      <td>-1.106863</td>\n",
       "      <td>2.425007</td>\n",
       "      <td>4.091952</td>\n",
       "      <td>5.276167</td>\n",
       "      <td>4.387117</td>\n",
       "    </tr>\n",
       "    <tr>\n",
       "      <th>2</th>\n",
       "      <td>Kenya</td>\n",
       "      <td>Inflation, consumer prices (annual %)</td>\n",
       "      <td>5.738598</td>\n",
       "      <td>1.961308</td>\n",
       "      <td>9.815691</td>\n",
       "      <td>11.624036</td>\n",
       "      <td>10.312778</td>\n",
       "      <td>14.453734</td>\n",
       "      <td>9.758880</td>\n",
       "      <td>26.239817</td>\n",
       "      <td>...</td>\n",
       "      <td>6.878155</td>\n",
       "      <td>6.582154</td>\n",
       "      <td>6.297250</td>\n",
       "      <td>8.005650</td>\n",
       "      <td>4.689806</td>\n",
       "      <td>5.239638</td>\n",
       "      <td>5.405162</td>\n",
       "      <td>6.107936</td>\n",
       "      <td>7.659863</td>\n",
       "      <td>7.671396</td>\n",
       "    </tr>\n",
       "    <tr>\n",
       "      <th>3</th>\n",
       "      <td>Ghana</td>\n",
       "      <td>Official exchange rate (LCU per US$, period av...</td>\n",
       "      <td>0.716305</td>\n",
       "      <td>0.792417</td>\n",
       "      <td>0.866764</td>\n",
       "      <td>0.899495</td>\n",
       "      <td>0.905209</td>\n",
       "      <td>0.915107</td>\n",
       "      <td>0.932619</td>\n",
       "      <td>1.052275</td>\n",
       "      <td>...</td>\n",
       "      <td>2.896575</td>\n",
       "      <td>3.714642</td>\n",
       "      <td>3.909817</td>\n",
       "      <td>4.350533</td>\n",
       "      <td>4.585325</td>\n",
       "      <td>5.217367</td>\n",
       "      <td>5.595708</td>\n",
       "      <td>5.805700</td>\n",
       "      <td>8.272400</td>\n",
       "      <td>11.020408</td>\n",
       "    </tr>\n",
       "    <tr>\n",
       "      <th>4</th>\n",
       "      <td>Cote d'Ivoire</td>\n",
       "      <td>Official exchange rate (LCU per US$, period av...</td>\n",
       "      <td>732.397693</td>\n",
       "      <td>693.713226</td>\n",
       "      <td>579.897426</td>\n",
       "      <td>527.338032</td>\n",
       "      <td>527.258363</td>\n",
       "      <td>522.425625</td>\n",
       "      <td>478.633718</td>\n",
       "      <td>446.000041</td>\n",
       "      <td>...</td>\n",
       "      <td>493.757330</td>\n",
       "      <td>591.211698</td>\n",
       "      <td>592.605615</td>\n",
       "      <td>580.656750</td>\n",
       "      <td>555.446458</td>\n",
       "      <td>585.911013</td>\n",
       "      <td>575.586005</td>\n",
       "      <td>554.530675</td>\n",
       "      <td>623.759701</td>\n",
       "      <td>606.569750</td>\n",
       "    </tr>\n",
       "  </tbody>\n",
       "</table>\n",
       "<p>5 rows × 25 columns</p>\n",
       "</div>"
      ],
      "text/plain": [
       "         Country                                          Indicator  \\\n",
       "0          Ghana              Inflation, consumer prices (annual %)   \n",
       "1  Cote d'Ivoire              Inflation, consumer prices (annual %)   \n",
       "2          Kenya              Inflation, consumer prices (annual %)   \n",
       "3          Ghana  Official exchange rate (LCU per US$, period av...   \n",
       "4  Cote d'Ivoire  Official exchange rate (LCU per US$, period av...   \n",
       "\n",
       "       YR2001      YR2002      YR2003      YR2004      YR2005      YR2006  \\\n",
       "0   41.509496    9.360932   29.772980   18.042739   15.438992   11.679184   \n",
       "1    4.361529    3.077265    3.296807    1.457988    3.885830    2.467191   \n",
       "2    5.738598    1.961308    9.815691   11.624036   10.312778   14.453734   \n",
       "3    0.716305    0.792417    0.866764    0.899495    0.905209    0.915107   \n",
       "4  732.397693  693.713226  579.897426  527.338032  527.258363  522.425625   \n",
       "\n",
       "       YR2007      YR2008  ...      YR2014      YR2015      YR2016  \\\n",
       "0   10.734267   16.494640  ...   15.489616   17.149970   17.454635   \n",
       "1    1.892006    6.308528  ...    0.448682    1.251500    0.723178   \n",
       "2    9.758880   26.239817  ...    6.878155    6.582154    6.297250   \n",
       "3    0.932619    1.052275  ...    2.896575    3.714642    3.909817   \n",
       "4  478.633718  446.000041  ...  493.757330  591.211698  592.605615   \n",
       "\n",
       "       YR2017      YR2018      YR2019      YR2020      YR2021      YR2022  \\\n",
       "0   12.371922    7.808765    7.143640    9.887290    9.971089   31.255895   \n",
       "1    0.685881    0.359409   -1.106863    2.425007    4.091952    5.276167   \n",
       "2    8.005650    4.689806    5.239638    5.405162    6.107936    7.659863   \n",
       "3    4.350533    4.585325    5.217367    5.595708    5.805700    8.272400   \n",
       "4  580.656750  555.446458  585.911013  575.586005  554.530675  623.759701   \n",
       "\n",
       "       YR2023  \n",
       "0   38.106966  \n",
       "1    4.387117  \n",
       "2    7.671396  \n",
       "3   11.020408  \n",
       "4  606.569750  \n",
       "\n",
       "[5 rows x 25 columns]"
      ]
     },
     "execution_count": 3,
     "metadata": {},
     "output_type": "execute_result"
    }
   ],
   "source": [
    "indicators = pd.read_csv(e_indicators)\n",
    "indicators.head()"
   ]
  },
  {
   "cell_type": "code",
   "execution_count": 4,
   "metadata": {},
   "outputs": [
    {
     "data": {
      "text/plain": [
       "Country       0\n",
       "Indicator     0\n",
       "YR2001        7\n",
       "YR2002        7\n",
       "YR2003        7\n",
       "YR2004        7\n",
       "YR2005        3\n",
       "YR2006        3\n",
       "YR2007        3\n",
       "YR2008        3\n",
       "YR2009        3\n",
       "YR2010        3\n",
       "YR2011        3\n",
       "YR2012        3\n",
       "YR2013        3\n",
       "YR2014        3\n",
       "YR2015        6\n",
       "YR2016        6\n",
       "YR2017        6\n",
       "YR2018       10\n",
       "YR2019       10\n",
       "YR2020       10\n",
       "YR2021       10\n",
       "YR2022       13\n",
       "YR2023       13\n",
       "dtype: int64"
      ]
     },
     "execution_count": 4,
     "metadata": {},
     "output_type": "execute_result"
    }
   ],
   "source": [
    "indicators.isnull().sum()"
   ]
  },
  {
   "cell_type": "markdown",
   "metadata": {},
   "source": [
    "We will have to look further at how we can incorporate the indicators info for other countries"
   ]
  },
  {
   "cell_type": "code",
   "execution_count": 5,
   "metadata": {},
   "outputs": [
    {
     "name": "stdout",
     "output_type": "stream",
     "text": [
      "(68654, 16) (18594, 15)\n"
     ]
    }
   ],
   "source": [
    "# Train and test datasets\n",
    "train_df = pd.read_csv(train_path)\n",
    "test_df = pd.read_csv(test_path)\n",
    "\n",
    "print(train_df.shape, test_df.shape)"
   ]
  },
  {
   "cell_type": "code",
   "execution_count": 6,
   "metadata": {},
   "outputs": [
    {
     "data": {
      "text/plain": [
       "ID                             0\n",
       "customer_id                    0\n",
       "country_id                     0\n",
       "tbl_loan_id                    0\n",
       "lender_id                      0\n",
       "loan_type                      0\n",
       "Total_Amount                   0\n",
       "Total_Amount_to_Repay          0\n",
       "disbursement_date              0\n",
       "due_date                       0\n",
       "duration                       0\n",
       "New_versus_Repeat              0\n",
       "Amount_Funded_By_Lender        0\n",
       "Lender_portion_Funded          0\n",
       "Lender_portion_to_be_repaid    0\n",
       "target                         0\n",
       "dtype: int64"
      ]
     },
     "execution_count": 6,
     "metadata": {},
     "output_type": "execute_result"
    }
   ],
   "source": [
    "train_df.isnull().sum()"
   ]
  },
  {
   "cell_type": "markdown",
   "metadata": {},
   "source": [
    "as we can see there are no missing values from the train dataset. Which means one less thing to  worry about"
   ]
  },
  {
   "cell_type": "code",
   "execution_count": 7,
   "metadata": {},
   "outputs": [
    {
     "data": {
      "text/plain": [
       "ID                             0\n",
       "customer_id                    0\n",
       "country_id                     0\n",
       "tbl_loan_id                    0\n",
       "lender_id                      0\n",
       "loan_type                      0\n",
       "Total_Amount                   0\n",
       "Total_Amount_to_Repay          0\n",
       "disbursement_date              0\n",
       "due_date                       0\n",
       "duration                       0\n",
       "New_versus_Repeat              0\n",
       "Amount_Funded_By_Lender        0\n",
       "Lender_portion_Funded          0\n",
       "Lender_portion_to_be_repaid    0\n",
       "dtype: int64"
      ]
     },
     "execution_count": 7,
     "metadata": {},
     "output_type": "execute_result"
    }
   ],
   "source": [
    "test_df.isnull().sum()"
   ]
  },
  {
   "cell_type": "markdown",
   "metadata": {},
   "source": [
    "same thing with the test dataset. We can now proceed with EDA"
   ]
  },
  {
   "cell_type": "code",
   "execution_count": 8,
   "metadata": {},
   "outputs": [
    {
     "name": "stdout",
     "output_type": "stream",
     "text": [
      "<class 'pandas.core.frame.DataFrame'>\n",
      "RangeIndex: 68654 entries, 0 to 68653\n",
      "Data columns (total 16 columns):\n",
      " #   Column                       Non-Null Count  Dtype  \n",
      "---  ------                       --------------  -----  \n",
      " 0   ID                           68654 non-null  object \n",
      " 1   customer_id                  68654 non-null  int64  \n",
      " 2   country_id                   68654 non-null  object \n",
      " 3   tbl_loan_id                  68654 non-null  int64  \n",
      " 4   lender_id                    68654 non-null  int64  \n",
      " 5   loan_type                    68654 non-null  object \n",
      " 6   Total_Amount                 68654 non-null  float64\n",
      " 7   Total_Amount_to_Repay        68654 non-null  float64\n",
      " 8   disbursement_date            68654 non-null  object \n",
      " 9   due_date                     68654 non-null  object \n",
      " 10  duration                     68654 non-null  int64  \n",
      " 11  New_versus_Repeat            68654 non-null  object \n",
      " 12  Amount_Funded_By_Lender      68654 non-null  float64\n",
      " 13  Lender_portion_Funded        68654 non-null  float64\n",
      " 14  Lender_portion_to_be_repaid  68654 non-null  float64\n",
      " 15  target                       68654 non-null  int64  \n",
      "dtypes: float64(5), int64(5), object(6)\n",
      "memory usage: 8.4+ MB\n"
     ]
    }
   ],
   "source": [
    "train_df.info()"
   ]
  },
  {
   "cell_type": "markdown",
   "metadata": {},
   "source": [
    "## EDA"
   ]
  },
  {
   "cell_type": "code",
   "execution_count": 9,
   "metadata": {},
   "outputs": [
    {
     "name": "stdout",
     "output_type": "stream",
     "text": [
      "[Index(['customer_id', 'tbl_loan_id', 'lender_id', 'Total_Amount',\n",
      "       'Total_Amount_to_Repay', 'duration', 'Amount_Funded_By_Lender',\n",
      "       'Lender_portion_Funded', 'Lender_portion_to_be_repaid', 'target'],\n",
      "      dtype='object')]\n",
      "[Index(['ID', 'country_id', 'loan_type', 'disbursement_date', 'due_date',\n",
      "       'New_versus_Repeat'],\n",
      "      dtype='object')]\n"
     ]
    }
   ],
   "source": [
    "# Separating the columns into numerical and categorical columns\n",
    "numerical_cols = [train_df.select_dtypes(include=['float64', 'int64']).columns]\n",
    "cat_cols = [train_df.select_dtypes(include=['object']).columns]\n",
    "print(numerical_cols, end='\\n')\n",
    "print(cat_cols)\n"
   ]
  },
  {
   "cell_type": "markdown",
   "metadata": {},
   "source": [
    "### Numberical variables"
   ]
  },
  {
   "cell_type": "markdown",
   "metadata": {},
   "source": [
    "1. Total Amount"
   ]
  },
  {
   "cell_type": "code",
   "execution_count": 10,
   "metadata": {},
   "outputs": [
    {
     "data": {
      "image/png": "[encoded data removed]",
      "text/plain": [
       "<Figure size 640x480 with 1 Axes>"
      ]
     },
     "metadata": {},
     "output_type": "display_data"
    }
   ],
   "source": [
    "train_df['Total_Amount'].plot(kind='hist')\n",
    "plt.show()\n"
   ]
  },
  {
   "cell_type": "code",
   "execution_count": 11,
   "metadata": {},
   "outputs": [
    {
     "data": {
      "image/png": "[encoded data removed]",
      "text/plain": [
       "<Figure size 640x480 with 1 Axes>"
      ]
     },
     "metadata": {},
     "output_type": "display_data"
    }
   ],
   "source": [
    "train_df['Total_Amount'].plot(kind='box');"
   ]
  },
  {
   "cell_type": "code",
   "execution_count": 12,
   "metadata": {},
   "outputs": [
    {
     "name": "stdout",
     "output_type": "stream",
     "text": [
      "minimum 2.0 : max 23000000.0 : avg 14836.82861697789\n"
     ]
    }
   ],
   "source": [
    "print('minimum {0} : max {1} : avg {2}'.format(train_df['Total_Amount'].min(), train_df['Total_Amount'].max(), train_df['Total_Amount'].mean()))"
   ]
  },
  {
   "cell_type": "markdown",
   "metadata": {},
   "source": [
    "The data is highly positively skewed and the there is presence of outliers"
   ]
  },
  {
   "cell_type": "code",
   "execution_count": 13,
   "metadata": {},
   "outputs": [
    {
     "data": {
      "image/png": "[encoded data removed]",
      "text/plain": [
       "<Figure size 640x480 with 1 Axes>"
      ]
     },
     "metadata": {},
     "output_type": "display_data"
    }
   ],
   "source": [
    "train_df['Total_Amount_to_Repay'].plot(kind='hist')\n",
    "plt.show()"
   ]
  },
  {
   "cell_type": "code",
   "execution_count": 14,
   "metadata": {},
   "outputs": [
    {
     "data": {
      "image/png": "[encoded data removed]",
      "text/plain": [
       "<Figure size 640x480 with 1 Axes>"
      ]
     },
     "metadata": {},
     "output_type": "display_data"
    }
   ],
   "source": [
    "train_df['Total_Amount_to_Repay'].plot(kind='box')\n",
    "plt.show()"
   ]
  },
  {
   "cell_type": "code",
   "execution_count": 15,
   "metadata": {},
   "outputs": [
    {
     "name": "stdout",
     "output_type": "stream",
     "text": [
      "minimum 0.0 : max 25415000.0 : avg 15639.929901243919\n"
     ]
    }
   ],
   "source": [
    "print('minimum {0} : max {1} : avg {2}'.format(train_df['Total_Amount_to_Repay'].min(), train_df['Total_Amount_to_Repay'].max(), train_df['Total_Amount_to_Repay'].mean()))"
   ]
  },
  {
   "cell_type": "markdown",
   "metadata": {},
   "source": [
    "Which is similar to the graph aboove "
   ]
  },
  {
   "cell_type": "code",
   "execution_count": 16,
   "metadata": {},
   "outputs": [
    {
     "data": {
      "image/png": "[encoded data removed]",
      "text/plain": [
       "<Figure size 640x480 with 1 Axes>"
      ]
     },
     "metadata": {},
     "output_type": "display_data"
    }
   ],
   "source": [
    "train_df['duration'].plot(kind='hist')\n",
    "plt.show()"
   ]
  },
  {
   "cell_type": "code",
   "execution_count": 17,
   "metadata": {},
   "outputs": [
    {
     "data": {
      "image/png": "[encoded data removed]",
      "text/plain": [
       "<Figure size 640x480 with 1 Axes>"
      ]
     },
     "metadata": {},
     "output_type": "display_data"
    }
   ],
   "source": [
    "train_df['duration'].plot(kind='box')\n",
    "plt.show()"
   ]
  },
  {
   "cell_type": "code",
   "execution_count": 18,
   "metadata": {},
   "outputs": [
    {
     "name": "stdout",
     "output_type": "stream",
     "text": [
      "minimum 1 : max 1096 : avg 8.54458589448539\n"
     ]
    }
   ],
   "source": [
    "print('minimum {0} : max {1} : avg {2}'.format(train_df['duration'].min(), train_df['duration'].max(), train_df['duration'].mean()))"
   ]
  },
  {
   "cell_type": "code",
   "execution_count": 19,
   "metadata": {},
   "outputs": [
    {
     "data": {
      "image/png": "[encoded data removed]",
      "text/plain": [
       "<Figure size 640x480 with 1 Axes>"
      ]
     },
     "metadata": {},
     "output_type": "display_data"
    }
   ],
   "source": [
    "train_df['Amount_Funded_By_Lender'].plot(kind='hist')\n",
    "plt.show()"
   ]
  },
  {
   "cell_type": "code",
   "execution_count": 20,
   "metadata": {},
   "outputs": [
    {
     "data": {
      "image/png": "[encoded data removed]",
      "text/plain": [
       "<Figure size 640x480 with 1 Axes>"
      ]
     },
     "metadata": {},
     "output_type": "display_data"
    }
   ],
   "source": [
    "train_df['Lender_portion_Funded'].plot(kind='hist')\n",
    "plt.show()"
   ]
  },
  {
   "cell_type": "code",
   "execution_count": 21,
   "metadata": {},
   "outputs": [
    {
     "data": {
      "image/png": "[encoded data removed]",
      "text/plain": [
       "<Figure size 640x480 with 1 Axes>"
      ]
     },
     "metadata": {},
     "output_type": "display_data"
    }
   ],
   "source": [
    "train_df['Lender_portion_to_be_repaid'].plot(kind='hist')\n",
    "plt.show()"
   ]
  },
  {
   "cell_type": "code",
   "execution_count": 22,
   "metadata": {},
   "outputs": [
    {
     "data": {
      "image/png": "[encoded data removed]",
      "text/plain": [
       "<Figure size 640x480 with 1 Axes>"
      ]
     },
     "metadata": {},
     "output_type": "display_data"
    }
   ],
   "source": [
    "train_df['target'].plot(kind='hist')\n",
    "plt.show()"
   ]
  },
  {
   "cell_type": "code",
   "execution_count": 23,
   "metadata": {},
   "outputs": [
    {
     "data": {
      "text/plain": [
       "0    0.981676\n",
       "1    0.018324\n",
       "Name: target, dtype: float64"
      ]
     },
     "execution_count": 23,
     "metadata": {},
     "output_type": "execute_result"
    }
   ],
   "source": [
    "train_df['target'].value_counts() / len(train_df)"
   ]
  },
  {
   "cell_type": "markdown",
   "metadata": {},
   "source": [
    "From the visualisations we can come to these conclusions:\n",
    "1. Most of the variables are positively skewed\n",
    "2. There is presence of outliers\n",
    "3. There is class imbalance in the `target` \n",
    "- we will now look at the best way of dealing with these problems"
   ]
  },
  {
   "cell_type": "code",
   "execution_count": 24,
   "metadata": {},
   "outputs": [
    {
     "data": {
      "text/plain": [
       "[Index(['ID', 'country_id', 'loan_type', 'disbursement_date', 'due_date',\n",
       "        'New_versus_Repeat'],\n",
       "       dtype='object')]"
      ]
     },
     "execution_count": 24,
     "metadata": {},
     "output_type": "execute_result"
    }
   ],
   "source": [
    "cat_cols"
   ]
  },
  {
   "cell_type": "markdown",
   "metadata": {},
   "source": [
    "2. Categorical"
   ]
  },
  {
   "cell_type": "code",
   "execution_count": 25,
   "metadata": {},
   "outputs": [
    {
     "data": {
      "image/png": "[encoded data removed]",
      "text/plain": [
       "<Figure size 640x480 with 1 Axes>"
      ]
     },
     "metadata": {},
     "output_type": "display_data"
    }
   ],
   "source": [
    "train_df['loan_type'].value_counts().plot(kind='bar')\n",
    "plt.show()"
   ]
  },
  {
   "cell_type": "code",
   "execution_count": 26,
   "metadata": {},
   "outputs": [
    {
     "data": {
      "image/png": "[encoded data removed]",
      "text/plain": [
       "<Figure size 1500x600 with 1 Axes>"
      ]
     },
     "metadata": {},
     "output_type": "display_data"
    }
   ],
   "source": [
    "aggregate_total_amount = train_df.groupby('loan_type')['Total_Amount'].sum().reset_index()\n",
    "plt.figure(figsize=(15,6))\n",
    "plt.bar(aggregate_total_amount['loan_type'], aggregate_total_amount['Total_Amount'])\n",
    "plt.xticks(rotation=45)\n",
    "plt.show()"
   ]
  },
  {
   "cell_type": "markdown",
   "metadata": {},
   "source": [
    "`Type_1` is the most common loan type and has the highest amount of disbursed funds"
   ]
  },
  {
   "cell_type": "code",
   "execution_count": 27,
   "metadata": {},
   "outputs": [
    {
     "data": {
      "image/png": "[encoded data removed]",
      "text/plain": [
       "<Figure size 640x480 with 1 Axes>"
      ]
     },
     "metadata": {},
     "output_type": "display_data"
    }
   ],
   "source": [
    "train_df['New_versus_Repeat'].value_counts().plot(kind='bar')\n",
    "plt.show()"
   ]
  },
  {
   "cell_type": "markdown",
   "metadata": {},
   "source": [
    "The majority of the people have a history of taking loans. Only a few number of people are new applicants"
   ]
  },
  {
   "cell_type": "markdown",
   "metadata": {},
   "source": [
    "these columns are being treated as objects but should be treated as datetime data type 'disbursement_date', 'due_date'"
   ]
  },
  {
   "cell_type": "code",
   "execution_count": 28,
   "metadata": {},
   "outputs": [],
   "source": [
    "def date_modifier(df):\n",
    "    import datetime\n",
    "    from datetime import datetime\n",
    "\n",
    "    df['disbursement_date'] = pd.to_datetime(df['disbursement_date'])\n",
    "    df['due_date'] = pd.to_datetime(df['due_date'])\n",
    "\n",
    "    # Extract the day, week, month and year for disbursement date\n",
    "    \n",
    "    df['disburement_week'] = df['disbursement_date'].dt.isocalendar().week\n",
    "    df['disburement_month'] = df['disbursement_date'].dt.month\n",
    "    df['disburement_year'] = df['disbursement_date'].dt.year\n",
    "    df['disburement_day'] = df['disbursement_date'].dt.day\n",
    "    return df"
   ]
  },
  {
   "cell_type": "code",
   "execution_count": 29,
   "metadata": {},
   "outputs": [],
   "source": [
    "train_df_mod = date_modifier(train_df)"
   ]
  },
  {
   "cell_type": "code",
   "execution_count": 30,
   "metadata": {},
   "outputs": [
    {
     "name": "stdout",
     "output_type": "stream",
     "text": [
      "<class 'pandas.core.frame.DataFrame'>\n",
      "RangeIndex: 68654 entries, 0 to 68653\n",
      "Data columns (total 20 columns):\n",
      " #   Column                       Non-Null Count  Dtype         \n",
      "---  ------                       --------------  -----         \n",
      " 0   ID                           68654 non-null  object        \n",
      " 1   customer_id                  68654 non-null  int64         \n",
      " 2   country_id                   68654 non-null  object        \n",
      " 3   tbl_loan_id                  68654 non-null  int64         \n",
      " 4   lender_id                    68654 non-null  int64         \n",
      " 5   loan_type                    68654 non-null  object        \n",
      " 6   Total_Amount                 68654 non-null  float64       \n",
      " 7   Total_Amount_to_Repay        68654 non-null  float64       \n",
      " 8   disbursement_date            68654 non-null  datetime64[ns]\n",
      " 9   due_date                     68654 non-null  datetime64[ns]\n",
      " 10  duration                     68654 non-null  int64         \n",
      " 11  New_versus_Repeat            68654 non-null  object        \n",
      " 12  Amount_Funded_By_Lender      68654 non-null  float64       \n",
      " 13  Lender_portion_Funded        68654 non-null  float64       \n",
      " 14  Lender_portion_to_be_repaid  68654 non-null  float64       \n",
      " 15  target                       68654 non-null  int64         \n",
      " 16  disburement_week             68654 non-null  UInt32        \n",
      " 17  disburement_month            68654 non-null  int64         \n",
      " 18  disburement_year             68654 non-null  int64         \n",
      " 19  disburement_day              68654 non-null  int64         \n",
      "dtypes: UInt32(1), datetime64[ns](2), float64(5), int64(8), object(4)\n",
      "memory usage: 10.3+ MB\n"
     ]
    }
   ],
   "source": [
    "train_df_mod.info()"
   ]
  },
  {
   "cell_type": "code",
   "execution_count": 41,
   "metadata": {},
   "outputs": [],
   "source": [
    "categorical = ['loan_type', 'New_versus_Repeat']"
   ]
  },
  {
   "cell_type": "code",
   "execution_count": 42,
   "metadata": {},
   "outputs": [
    {
     "data": {
      "text/plain": [
       "loan_type            22\n",
       "New_versus_Repeat     2\n",
       "dtype: int64"
      ]
     },
     "execution_count": 42,
     "metadata": {},
     "output_type": "execute_result"
    }
   ],
   "source": [
    "train_df_mod[categorical].nunique()"
   ]
  },
  {
   "cell_type": "code",
   "execution_count": 43,
   "metadata": {},
   "outputs": [
    {
     "name": "stdout",
     "output_type": "stream",
     "text": [
      "loan_type\n",
      "['Type_1' 'Type_7' 'Type_5' 'Type_4' 'Type_6' 'Type_14' 'Type_9' 'Type_10'\n",
      " 'Type_19' 'Type_16' 'Type_2' 'Type_11' 'Type_23' 'Type_18' 'Type_17'\n",
      " 'Type_12' 'Type_20' 'Type_13' 'Type_21' 'Type_15' 'Type_24' 'Type_22']\n",
      "\n",
      "New_versus_Repeat\n",
      "['Repeat Loan' 'New Loan']\n",
      "\n"
     ]
    }
   ],
   "source": [
    "for i in categorical:\n",
    "    print(i)\n",
    "    print(train_df_mod[i].unique())\n",
    "    print()"
   ]
  },
  {
   "cell_type": "code",
   "execution_count": 51,
   "metadata": {},
   "outputs": [],
   "source": [
    "repeat_loan_rate = train_df_mod[train_df_mod.loan_type == 'Repeat Loan'].target.mean()\n",
    "new_loan_rate = train_df_mod[train_df_mod.loan_type == 'New Loan'].target.mean()"
   ]
  },
  {
   "cell_type": "code",
   "execution_count": 52,
   "metadata": {},
   "outputs": [
    {
     "data": {
      "text/plain": [
       "nan"
      ]
     },
     "execution_count": 52,
     "metadata": {},
     "output_type": "execute_result"
    }
   ],
   "source": [
    "new_loan_rate"
   ]
  },
  {
   "cell_type": "code",
   "execution_count": 54,
   "metadata": {},
   "outputs": [],
   "source": [
    "global_default = train_df_mod.target.mean()"
   ]
  },
  {
   "cell_type": "code",
   "execution_count": 55,
   "metadata": {},
   "outputs": [],
   "source": [
    "from IPython.display import display"
   ]
  },
  {
   "cell_type": "code",
   "execution_count": 56,
   "metadata": {},
   "outputs": [
    {
     "name": "stdout",
     "output_type": "stream",
     "text": [
      "loan_type\n"
     ]
    },
    {
     "data": {
      "text/html": [
       "<div>\n",
       "<style scoped>\n",
       "    .dataframe tbody tr th:only-of-type {\n",
       "        vertical-align: middle;\n",
       "    }\n",
       "\n",
       "    .dataframe tbody tr th {\n",
       "        vertical-align: top;\n",
       "    }\n",
       "\n",
       "    .dataframe thead th {\n",
       "        text-align: right;\n",
       "    }\n",
       "</style>\n",
       "<table border=\"1\" class=\"dataframe\">\n",
       "  <thead>\n",
       "    <tr style=\"text-align: right;\">\n",
       "      <th></th>\n",
       "      <th>mean</th>\n",
       "      <th>count</th>\n",
       "      <th>diff</th>\n",
       "      <th>risk</th>\n",
       "    </tr>\n",
       "    <tr>\n",
       "      <th>loan_type</th>\n",
       "      <th></th>\n",
       "      <th></th>\n",
       "      <th></th>\n",
       "      <th></th>\n",
       "    </tr>\n",
       "  </thead>\n",
       "  <tbody>\n",
       "    <tr>\n",
       "      <th>Type_1</th>\n",
       "      <td>0.008425</td>\n",
       "      <td>61723</td>\n",
       "      <td>-0.009899</td>\n",
       "      <td>0.459771</td>\n",
       "    </tr>\n",
       "    <tr>\n",
       "      <th>Type_10</th>\n",
       "      <td>0.025751</td>\n",
       "      <td>466</td>\n",
       "      <td>0.007427</td>\n",
       "      <td>1.405337</td>\n",
       "    </tr>\n",
       "    <tr>\n",
       "      <th>Type_11</th>\n",
       "      <td>0.047619</td>\n",
       "      <td>42</td>\n",
       "      <td>0.029295</td>\n",
       "      <td>2.598758</td>\n",
       "    </tr>\n",
       "    <tr>\n",
       "      <th>Type_12</th>\n",
       "      <td>0.047619</td>\n",
       "      <td>21</td>\n",
       "      <td>0.029295</td>\n",
       "      <td>2.598758</td>\n",
       "    </tr>\n",
       "    <tr>\n",
       "      <th>Type_13</th>\n",
       "      <td>0.000000</td>\n",
       "      <td>10</td>\n",
       "      <td>-0.018324</td>\n",
       "      <td>0.000000</td>\n",
       "    </tr>\n",
       "    <tr>\n",
       "      <th>Type_14</th>\n",
       "      <td>0.717172</td>\n",
       "      <td>99</td>\n",
       "      <td>0.698848</td>\n",
       "      <td>39.138877</td>\n",
       "    </tr>\n",
       "    <tr>\n",
       "      <th>Type_15</th>\n",
       "      <td>0.750000</td>\n",
       "      <td>4</td>\n",
       "      <td>0.731676</td>\n",
       "      <td>40.930445</td>\n",
       "    </tr>\n",
       "    <tr>\n",
       "      <th>Type_16</th>\n",
       "      <td>0.000000</td>\n",
       "      <td>12</td>\n",
       "      <td>-0.018324</td>\n",
       "      <td>0.000000</td>\n",
       "    </tr>\n",
       "    <tr>\n",
       "      <th>Type_17</th>\n",
       "      <td>0.000000</td>\n",
       "      <td>23</td>\n",
       "      <td>-0.018324</td>\n",
       "      <td>0.000000</td>\n",
       "    </tr>\n",
       "    <tr>\n",
       "      <th>Type_18</th>\n",
       "      <td>0.033333</td>\n",
       "      <td>30</td>\n",
       "      <td>0.015010</td>\n",
       "      <td>1.819131</td>\n",
       "    </tr>\n",
       "    <tr>\n",
       "      <th>Type_19</th>\n",
       "      <td>0.000000</td>\n",
       "      <td>4</td>\n",
       "      <td>-0.018324</td>\n",
       "      <td>0.000000</td>\n",
       "    </tr>\n",
       "    <tr>\n",
       "      <th>Type_2</th>\n",
       "      <td>0.608108</td>\n",
       "      <td>74</td>\n",
       "      <td>0.589784</td>\n",
       "      <td>33.186847</td>\n",
       "    </tr>\n",
       "    <tr>\n",
       "      <th>Type_20</th>\n",
       "      <td>0.538462</td>\n",
       "      <td>13</td>\n",
       "      <td>0.520138</td>\n",
       "      <td>29.385961</td>\n",
       "    </tr>\n",
       "    <tr>\n",
       "      <th>Type_21</th>\n",
       "      <td>0.000000</td>\n",
       "      <td>3</td>\n",
       "      <td>-0.018324</td>\n",
       "      <td>0.000000</td>\n",
       "    </tr>\n",
       "    <tr>\n",
       "      <th>Type_22</th>\n",
       "      <td>0.000000</td>\n",
       "      <td>1</td>\n",
       "      <td>-0.018324</td>\n",
       "      <td>0.000000</td>\n",
       "    </tr>\n",
       "    <tr>\n",
       "      <th>Type_23</th>\n",
       "      <td>0.722222</td>\n",
       "      <td>18</td>\n",
       "      <td>0.703898</td>\n",
       "      <td>39.414503</td>\n",
       "    </tr>\n",
       "    <tr>\n",
       "      <th>Type_24</th>\n",
       "      <td>0.000000</td>\n",
       "      <td>3</td>\n",
       "      <td>-0.018324</td>\n",
       "      <td>0.000000</td>\n",
       "    </tr>\n",
       "    <tr>\n",
       "      <th>Type_4</th>\n",
       "      <td>0.123077</td>\n",
       "      <td>1235</td>\n",
       "      <td>0.104753</td>\n",
       "      <td>6.716791</td>\n",
       "    </tr>\n",
       "    <tr>\n",
       "      <th>Type_5</th>\n",
       "      <td>0.080210</td>\n",
       "      <td>1521</td>\n",
       "      <td>0.061887</td>\n",
       "      <td>4.377396</td>\n",
       "    </tr>\n",
       "    <tr>\n",
       "      <th>Type_6</th>\n",
       "      <td>0.106443</td>\n",
       "      <td>357</td>\n",
       "      <td>0.088119</td>\n",
       "      <td>5.808989</td>\n",
       "    </tr>\n",
       "    <tr>\n",
       "      <th>Type_7</th>\n",
       "      <td>0.084229</td>\n",
       "      <td>2790</td>\n",
       "      <td>0.065906</td>\n",
       "      <td>4.596729</td>\n",
       "    </tr>\n",
       "    <tr>\n",
       "      <th>Type_9</th>\n",
       "      <td>0.175610</td>\n",
       "      <td>205</td>\n",
       "      <td>0.157286</td>\n",
       "      <td>9.583714</td>\n",
       "    </tr>\n",
       "  </tbody>\n",
       "</table>\n",
       "</div>"
      ],
      "text/plain": [
       "               mean  count      diff       risk\n",
       "loan_type                                      \n",
       "Type_1     0.008425  61723 -0.009899   0.459771\n",
       "Type_10    0.025751    466  0.007427   1.405337\n",
       "Type_11    0.047619     42  0.029295   2.598758\n",
       "Type_12    0.047619     21  0.029295   2.598758\n",
       "Type_13    0.000000     10 -0.018324   0.000000\n",
       "Type_14    0.717172     99  0.698848  39.138877\n",
       "Type_15    0.750000      4  0.731676  40.930445\n",
       "Type_16    0.000000     12 -0.018324   0.000000\n",
       "Type_17    0.000000     23 -0.018324   0.000000\n",
       "Type_18    0.033333     30  0.015010   1.819131\n",
       "Type_19    0.000000      4 -0.018324   0.000000\n",
       "Type_2     0.608108     74  0.589784  33.186847\n",
       "Type_20    0.538462     13  0.520138  29.385961\n",
       "Type_21    0.000000      3 -0.018324   0.000000\n",
       "Type_22    0.000000      1 -0.018324   0.000000\n",
       "Type_23    0.722222     18  0.703898  39.414503\n",
       "Type_24    0.000000      3 -0.018324   0.000000\n",
       "Type_4     0.123077   1235  0.104753   6.716791\n",
       "Type_5     0.080210   1521  0.061887   4.377396\n",
       "Type_6     0.106443    357  0.088119   5.808989\n",
       "Type_7     0.084229   2790  0.065906   4.596729\n",
       "Type_9     0.175610    205  0.157286   9.583714"
      ]
     },
     "metadata": {},
     "output_type": "display_data"
    },
    {
     "name": "stdout",
     "output_type": "stream",
     "text": [
      "\n",
      "\n",
      "New_versus_Repeat\n"
     ]
    },
    {
     "data": {
      "text/html": [
       "<div>\n",
       "<style scoped>\n",
       "    .dataframe tbody tr th:only-of-type {\n",
       "        vertical-align: middle;\n",
       "    }\n",
       "\n",
       "    .dataframe tbody tr th {\n",
       "        vertical-align: top;\n",
       "    }\n",
       "\n",
       "    .dataframe thead th {\n",
       "        text-align: right;\n",
       "    }\n",
       "</style>\n",
       "<table border=\"1\" class=\"dataframe\">\n",
       "  <thead>\n",
       "    <tr style=\"text-align: right;\">\n",
       "      <th></th>\n",
       "      <th>mean</th>\n",
       "      <th>count</th>\n",
       "      <th>diff</th>\n",
       "      <th>risk</th>\n",
       "    </tr>\n",
       "    <tr>\n",
       "      <th>New_versus_Repeat</th>\n",
       "      <th></th>\n",
       "      <th></th>\n",
       "      <th></th>\n",
       "      <th></th>\n",
       "    </tr>\n",
       "  </thead>\n",
       "  <tbody>\n",
       "    <tr>\n",
       "      <th>New Loan</th>\n",
       "      <td>0.209877</td>\n",
       "      <td>567</td>\n",
       "      <td>0.191553</td>\n",
       "      <td>11.453787</td>\n",
       "    </tr>\n",
       "    <tr>\n",
       "      <th>Repeat Loan</th>\n",
       "      <td>0.016729</td>\n",
       "      <td>68087</td>\n",
       "      <td>-0.001595</td>\n",
       "      <td>0.912945</td>\n",
       "    </tr>\n",
       "  </tbody>\n",
       "</table>\n",
       "</div>"
      ],
      "text/plain": [
       "                       mean  count      diff       risk\n",
       "New_versus_Repeat                                      \n",
       "New Loan           0.209877    567  0.191553  11.453787\n",
       "Repeat Loan        0.016729  68087 -0.001595   0.912945"
      ]
     },
     "metadata": {},
     "output_type": "display_data"
    },
    {
     "name": "stdout",
     "output_type": "stream",
     "text": [
      "\n",
      "\n"
     ]
    }
   ],
   "source": [
    "for c in categorical:\n",
    "    print(c)\n",
    "    df_group = train_df_mod.groupby(c).target.agg(['mean', 'count'])\n",
    "    df_group['diff'] = df_group['mean'] - global_default\n",
    "    df_group['risk'] = df_group['mean'] / global_default\n",
    "    display(df_group)\n",
    "    print()\n",
    "    print()"
   ]
  },
  {
   "cell_type": "code",
   "execution_count": 57,
   "metadata": {},
   "outputs": [],
   "source": [
    "from sklearn.metrics import mutual_info_score"
   ]
  },
  {
   "cell_type": "code",
   "execution_count": 59,
   "metadata": {},
   "outputs": [
    {
     "data": {
      "text/plain": [
       "loan_type            0.016979\n",
       "New_versus_Repeat    0.002882\n",
       "dtype: float64"
      ]
     },
     "execution_count": 59,
     "metadata": {},
     "output_type": "execute_result"
    }
   ],
   "source": [
    "def mutual_info(series):\n",
    "    return mutual_info_score(train_df_mod['target'], series)\n",
    "\n",
    "mi = train_df_mod[categorical].apply(mutual_info)\n",
    "mi"
   ]
  },
  {
   "cell_type": "code",
   "execution_count": 60,
   "metadata": {},
   "outputs": [
    {
     "data": {
      "text/plain": [
       "[Index(['customer_id', 'tbl_loan_id', 'lender_id', 'Total_Amount',\n",
       "        'Total_Amount_to_Repay', 'duration', 'Amount_Funded_By_Lender',\n",
       "        'Lender_portion_Funded', 'Lender_portion_to_be_repaid', 'target'],\n",
       "       dtype='object')]"
      ]
     },
     "execution_count": 60,
     "metadata": {},
     "output_type": "execute_result"
    }
   ],
   "source": [
    "numerical_cols"
   ]
  },
  {
   "cell_type": "code",
   "execution_count": 61,
   "metadata": {},
   "outputs": [
    {
     "data": {
      "text/plain": [
       "Total_Amount                   0.086043\n",
       "Total_Amount_to_Repay          0.087089\n",
       "duration                       0.189889\n",
       "Amount_Funded_By_Lender        0.101845\n",
       "Lender_portion_Funded          0.045418\n",
       "Lender_portion_to_be_repaid    0.109517\n",
       "target                         1.000000\n",
       "dtype: float64"
      ]
     },
     "execution_count": 61,
     "metadata": {},
     "output_type": "execute_result"
    }
   ],
   "source": [
    "num_cols = ['Total_Amount',\n",
    "            'Total_Amount_to_Repay', 'duration', 'Amount_Funded_By_Lender',\n",
    "            'Lender_portion_Funded', 'Lender_portion_to_be_repaid', 'target']\n",
    "train_df_mod[num_cols].corrwith(train_df_mod['target'])"
   ]
  },
  {
   "cell_type": "code",
   "execution_count": null,
   "metadata": {},
   "outputs": [],
   "source": []
  }
 ],
 "metadata": {
  "kernelspec": {
   "display_name": "tensorflow",
   "language": "python",
   "name": "python3"
  },
  "language_info": {
   "codemirror_mode": {
    "name": "ipython",
    "version": 3
   },
   "file_extension": ".py",
   "mimetype": "text/x-python",
   "name": "python",
   "nbconvert_exporter": "python",
   "pygments_lexer": "ipython3",
   "version": "3.8.19"
  }
 },
 "nbformat": 4,
 "nbformat_minor": 4
}
